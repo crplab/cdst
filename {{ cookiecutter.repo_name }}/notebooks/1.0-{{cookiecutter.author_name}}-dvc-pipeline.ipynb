{
 "cells": [
  {
   "cell_type": "code",
   "execution_count": null,
   "metadata": {},
   "outputs": [],
   "source": [
    "import os\n",
    "import subprocess\n",
    "from {{cookiecutter.repo_name}}.settings import cwd"
   ]
  },
  {
   "cell_type": "code",
   "execution_count": null,
   "metadata": {},
   "outputs": [],
   "source": [
    "PROJECT_NAME = os.path.basename(os.path.dirname(cwd))"
   ]
  },
  {
   "cell_type": "code",
   "execution_count": null,
   "metadata": {},
   "outputs": [],
   "source": [
    "def form_dvc_command(name, py_file, inps, outs=[],\n",
    "                     extra_deps=[], outs_persist=[]):\n",
    "    res = (f\"dvc run --no-exec -w {cwd} -f {PROJECT_NAME}/pipelines/{name}.dvc\"\n",
    "           f\" -d {py_file}\")\n",
    "    res += \"\".join([\" -d \" + x for x in inps])\n",
    "    res += \"\".join([\" -d \" + x for x in extra_deps])\n",
    "    res += \"\".join([\" -o \" + x for x in outs])\n",
    "    res += \"\".join([\" --outs-persist \" + x for x in outs_persist])\n",
    "    res += f\" python {py_file}\"\n",
    "    res += \" \" + \" \".join(inps)\n",
    "    \n",
    "    res += \" \" + \" \".join(outs_persist)\n",
    "    res += \" \" + \" \".join(outs)\n",
    "    return res.strip()\n",
    "    \n",
    "def execute_dvc_command(command_string):\n",
    "    subprocess.check_output(f\"cd {cwd}; {command_string}\", shell=True)"
   ]
  }
 ],
 "metadata": {
  "kernelspec": {
   "display_name": "Python 3",
   "language": "python",
   "name": "python3"
  },
  "language_info": {
   "codemirror_mode": {
    "name": "ipython",
    "version": 3
   },
   "file_extension": ".py",
   "mimetype": "text/x-python",
   "name": "python",
   "nbconvert_exporter": "python",
   "pygments_lexer": "ipython3",
   "version": "3.7.2"
  }
 },
 "nbformat": 4,
 "nbformat_minor": 2
}
